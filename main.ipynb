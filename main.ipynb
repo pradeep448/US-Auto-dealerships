{
 "cells": [
  {
   "cell_type": "markdown",
   "metadata": {},
   "source": [
    "# Steps"
   ]
  },
  {
   "cell_type": "code",
   "execution_count": 1,
   "metadata": {},
   "outputs": [],
   "source": [
    "# Importing libraries\n",
    "# Reading dataset\n",
    "# understand dataset\n",
    "# update dataset\n",
    "# get canonical dealerships\n",
    "# Join original and updated datasets to check updated values\n",
    "# Get quality % as per NA count for each tenant\n",
    "# collect all issues and corrections\n",
    "# model creation\n",
    "# model serialization for deployment\n",
    "# QnA"
   ]
  },
  {
   "cell_type": "markdown",
   "metadata": {},
   "source": [
    "# Importing libraries"
   ]
  },
  {
   "cell_type": "code",
   "execution_count": 2,
   "metadata": {},
   "outputs": [],
   "source": [
    "import numpy as np\n",
    "import pandas as pd\n",
    "import re\n",
    "import os\n"
   ]
  },
  {
   "cell_type": "code",
   "execution_count": 3,
   "metadata": {},
   "outputs": [],
   "source": [
    "# function to get dataframe report\n",
    "def report(data):\n",
    "    data_types = pd.DataFrame(\n",
    "        data.dtypes,\n",
    "        columns=['Data Type']\n",
    "    )\n",
    "    missing_data = pd.DataFrame(\n",
    "        data.isnull().sum(),\n",
    "        columns=['Missing Values']\n",
    "    )\n",
    "    unique_values=pd.DataFrame(\n",
    "        data.nunique(),\n",
    "        columns=['Unique Values']\n",
    "    )\n",
    "    base=data_types.join(missing_data).join(unique_values)\n",
    "    base['Unique values %']=base[['Unique Values']].applymap(lambda x:x*100/data.shape[0])\n",
    "    base['Missing values %']=base[['Missing Values']].applymap(lambda x:x*100/data.shape[0])\n",
    "    return base"
   ]
  },
  {
   "cell_type": "code",
   "execution_count": 4,
   "metadata": {},
   "outputs": [],
   "source": [
    "# reading dataset\n",
    "dataset_org=pd.read_csv('dataset.csv')\n",
    "# creating dataset copy for operations\n",
    "dataset=dataset_org.copy()"
   ]
  },
  {
   "cell_type": "markdown",
   "metadata": {},
   "source": [
    "# Understanding Dataset"
   ]
  },
  {
   "cell_type": "code",
   "execution_count": 5,
   "metadata": {},
   "outputs": [
    {
     "data": {
      "text/html": [
       "<div>\n",
       "<style scoped>\n",
       "    .dataframe tbody tr th:only-of-type {\n",
       "        vertical-align: middle;\n",
       "    }\n",
       "\n",
       "    .dataframe tbody tr th {\n",
       "        vertical-align: top;\n",
       "    }\n",
       "\n",
       "    .dataframe thead th {\n",
       "        text-align: right;\n",
       "    }\n",
       "</style>\n",
       "<table border=\"1\" class=\"dataframe\">\n",
       "  <thead>\n",
       "    <tr style=\"text-align: right;\">\n",
       "      <th></th>\n",
       "      <th>Data Type</th>\n",
       "      <th>Missing Values</th>\n",
       "      <th>Unique Values</th>\n",
       "      <th>Unique values %</th>\n",
       "      <th>Missing values %</th>\n",
       "    </tr>\n",
       "  </thead>\n",
       "  <tbody>\n",
       "    <tr>\n",
       "      <th>id</th>\n",
       "      <td>int64</td>\n",
       "      <td>0</td>\n",
       "      <td>29668</td>\n",
       "      <td>98.893333</td>\n",
       "      <td>0.000000</td>\n",
       "    </tr>\n",
       "    <tr>\n",
       "      <th>name</th>\n",
       "      <td>object</td>\n",
       "      <td>0</td>\n",
       "      <td>9158</td>\n",
       "      <td>30.526667</td>\n",
       "      <td>0.000000</td>\n",
       "    </tr>\n",
       "    <tr>\n",
       "      <th>tenant_id</th>\n",
       "      <td>int64</td>\n",
       "      <td>0</td>\n",
       "      <td>661</td>\n",
       "      <td>2.203333</td>\n",
       "      <td>0.000000</td>\n",
       "    </tr>\n",
       "    <tr>\n",
       "      <th>address_line</th>\n",
       "      <td>object</td>\n",
       "      <td>2</td>\n",
       "      <td>8538</td>\n",
       "      <td>28.460000</td>\n",
       "      <td>0.006667</td>\n",
       "    </tr>\n",
       "    <tr>\n",
       "      <th>city</th>\n",
       "      <td>object</td>\n",
       "      <td>0</td>\n",
       "      <td>2522</td>\n",
       "      <td>8.406667</td>\n",
       "      <td>0.000000</td>\n",
       "    </tr>\n",
       "    <tr>\n",
       "      <th>state</th>\n",
       "      <td>object</td>\n",
       "      <td>0</td>\n",
       "      <td>53</td>\n",
       "      <td>0.176667</td>\n",
       "      <td>0.000000</td>\n",
       "    </tr>\n",
       "    <tr>\n",
       "      <th>zip</th>\n",
       "      <td>object</td>\n",
       "      <td>1</td>\n",
       "      <td>4267</td>\n",
       "      <td>14.223333</td>\n",
       "      <td>0.003333</td>\n",
       "    </tr>\n",
       "    <tr>\n",
       "      <th>country</th>\n",
       "      <td>object</td>\n",
       "      <td>0</td>\n",
       "      <td>1</td>\n",
       "      <td>0.003333</td>\n",
       "      <td>0.000000</td>\n",
       "    </tr>\n",
       "    <tr>\n",
       "      <th>phone</th>\n",
       "      <td>object</td>\n",
       "      <td>1883</td>\n",
       "      <td>7658</td>\n",
       "      <td>25.526667</td>\n",
       "      <td>6.276667</td>\n",
       "    </tr>\n",
       "    <tr>\n",
       "      <th>web</th>\n",
       "      <td>object</td>\n",
       "      <td>12642</td>\n",
       "      <td>8786</td>\n",
       "      <td>29.286667</td>\n",
       "      <td>42.140000</td>\n",
       "    </tr>\n",
       "    <tr>\n",
       "      <th>google_url</th>\n",
       "      <td>object</td>\n",
       "      <td>3644</td>\n",
       "      <td>5548</td>\n",
       "      <td>18.493333</td>\n",
       "      <td>12.146667</td>\n",
       "    </tr>\n",
       "    <tr>\n",
       "      <th>facebook_url</th>\n",
       "      <td>object</td>\n",
       "      <td>10417</td>\n",
       "      <td>7926</td>\n",
       "      <td>26.420000</td>\n",
       "      <td>34.723333</td>\n",
       "    </tr>\n",
       "    <tr>\n",
       "      <th>cars_url</th>\n",
       "      <td>object</td>\n",
       "      <td>11038</td>\n",
       "      <td>4986</td>\n",
       "      <td>16.620000</td>\n",
       "      <td>36.793333</td>\n",
       "    </tr>\n",
       "  </tbody>\n",
       "</table>\n",
       "</div>"
      ],
      "text/plain": [
       "             Data Type  Missing Values  Unique Values  Unique values %  \\\n",
       "id               int64               0          29668        98.893333   \n",
       "name            object               0           9158        30.526667   \n",
       "tenant_id        int64               0            661         2.203333   \n",
       "address_line    object               2           8538        28.460000   \n",
       "city            object               0           2522         8.406667   \n",
       "state           object               0             53         0.176667   \n",
       "zip             object               1           4267        14.223333   \n",
       "country         object               0              1         0.003333   \n",
       "phone           object            1883           7658        25.526667   \n",
       "web             object           12642           8786        29.286667   \n",
       "google_url      object            3644           5548        18.493333   \n",
       "facebook_url    object           10417           7926        26.420000   \n",
       "cars_url        object           11038           4986        16.620000   \n",
       "\n",
       "              Missing values %  \n",
       "id                    0.000000  \n",
       "name                  0.000000  \n",
       "tenant_id             0.000000  \n",
       "address_line          0.006667  \n",
       "city                  0.000000  \n",
       "state                 0.000000  \n",
       "zip                   0.003333  \n",
       "country               0.000000  \n",
       "phone                 6.276667  \n",
       "web                  42.140000  \n",
       "google_url           12.146667  \n",
       "facebook_url         34.723333  \n",
       "cars_url             36.793333  "
      ]
     },
     "execution_count": 5,
     "metadata": {},
     "output_type": "execute_result"
    }
   ],
   "source": [
    "# printing report off original/old dataset\n",
    "report_dataset_org=report(dataset_org)\n",
    "report_dataset_org"
   ]
  },
  {
   "cell_type": "code",
   "execution_count": 6,
   "metadata": {},
   "outputs": [
    {
     "data": {
      "text/plain": [
       "(30000, 13)"
      ]
     },
     "execution_count": 6,
     "metadata": {},
     "output_type": "execute_result"
    }
   ],
   "source": [
    "# checking dataset shape\n",
    "dataset.shape"
   ]
  },
  {
   "cell_type": "code",
   "execution_count": 7,
   "metadata": {},
   "outputs": [
    {
     "data": {
      "text/html": [
       "<div>\n",
       "<style scoped>\n",
       "    .dataframe tbody tr th:only-of-type {\n",
       "        vertical-align: middle;\n",
       "    }\n",
       "\n",
       "    .dataframe tbody tr th {\n",
       "        vertical-align: top;\n",
       "    }\n",
       "\n",
       "    .dataframe thead th {\n",
       "        text-align: right;\n",
       "    }\n",
       "</style>\n",
       "<table border=\"1\" class=\"dataframe\">\n",
       "  <thead>\n",
       "    <tr style=\"text-align: right;\">\n",
       "      <th></th>\n",
       "      <th>id</th>\n",
       "      <th>name</th>\n",
       "      <th>tenant_id</th>\n",
       "      <th>address_line</th>\n",
       "      <th>city</th>\n",
       "      <th>state</th>\n",
       "      <th>zip</th>\n",
       "      <th>country</th>\n",
       "      <th>phone</th>\n",
       "      <th>web</th>\n",
       "      <th>google_url</th>\n",
       "      <th>facebook_url</th>\n",
       "      <th>cars_url</th>\n",
       "    </tr>\n",
       "  </thead>\n",
       "  <tbody>\n",
       "    <tr>\n",
       "      <th>0</th>\n",
       "      <td>3244033</td>\n",
       "      <td># 1 Brookville Chevrolet</td>\n",
       "      <td>130469</td>\n",
       "      <td>1 E Main St</td>\n",
       "      <td>Brookville</td>\n",
       "      <td>PA</td>\n",
       "      <td>15825</td>\n",
       "      <td>US</td>\n",
       "      <td>(814) 849-8313</td>\n",
       "      <td>https://www.brookvillegmdealer.com</td>\n",
       "      <td>https://maps.google.com/maps?cid=1262205935310...</td>\n",
       "      <td>https://www.facebook.com/brookvillechevy/</td>\n",
       "      <td>https://www.cars.com/dealers/154863/1-brookvil...</td>\n",
       "    </tr>\n",
       "    <tr>\n",
       "      <th>1</th>\n",
       "      <td>18311</td>\n",
       "      <td>#1 BROOKVILLE CHEVROLET-BUICK</td>\n",
       "      <td>1840</td>\n",
       "      <td>ONE E MAIN ST</td>\n",
       "      <td>BROOKVILLE</td>\n",
       "      <td>PA</td>\n",
       "      <td>15825</td>\n",
       "      <td>US</td>\n",
       "      <td>(814) 849-8313</td>\n",
       "      <td>NaN</td>\n",
       "      <td>NaN</td>\n",
       "      <td>https://www.facebook.com/brookvillechevy/</td>\n",
       "      <td>NaN</td>\n",
       "    </tr>\n",
       "    <tr>\n",
       "      <th>2</th>\n",
       "      <td>118193</td>\n",
       "      <td>#1 BROOKVILLE CHEVROLET-BUICK</td>\n",
       "      <td>2980</td>\n",
       "      <td>1 East Main St</td>\n",
       "      <td>Brookville</td>\n",
       "      <td>PA</td>\n",
       "      <td>15825</td>\n",
       "      <td>US</td>\n",
       "      <td>(814) 849-8313</td>\n",
       "      <td>NaN</td>\n",
       "      <td>https://maps.google.com/maps?cid=1262205935310...</td>\n",
       "      <td>https://www.facebook.com/brookvillechevy/</td>\n",
       "      <td>http://www.cars.com/dealers/154863/1-brookvill...</td>\n",
       "    </tr>\n",
       "    <tr>\n",
       "      <th>3</th>\n",
       "      <td>18248</td>\n",
       "      <td>#1 BROOKVILLE CHEVROLET-BUICK</td>\n",
       "      <td>1836</td>\n",
       "      <td>ONE E MAIN ST</td>\n",
       "      <td>BROOKVILLE</td>\n",
       "      <td>PA</td>\n",
       "      <td>15825</td>\n",
       "      <td>US</td>\n",
       "      <td>(814) 849-8313</td>\n",
       "      <td>NaN</td>\n",
       "      <td>NaN</td>\n",
       "      <td>NaN</td>\n",
       "      <td>NaN</td>\n",
       "    </tr>\n",
       "    <tr>\n",
       "      <th>4</th>\n",
       "      <td>575489</td>\n",
       "      <td>#1 BROOKVILLE CHEVROLET-BUICK</td>\n",
       "      <td>206</td>\n",
       "      <td>30 Main St</td>\n",
       "      <td>Brookville</td>\n",
       "      <td>PA</td>\n",
       "      <td>15825</td>\n",
       "      <td>US</td>\n",
       "      <td>(814) 849-8313</td>\n",
       "      <td>http://www.brookvillegmdealer.com</td>\n",
       "      <td>https://maps.google.com/maps?cid=1262205935310...</td>\n",
       "      <td>https://www.facebook.com/brookvillechevy/</td>\n",
       "      <td>https://www.cars.com/dealers/154863/1-brookvil...</td>\n",
       "    </tr>\n",
       "  </tbody>\n",
       "</table>\n",
       "</div>"
      ],
      "text/plain": [
       "        id                           name  tenant_id    address_line  \\\n",
       "0  3244033       # 1 Brookville Chevrolet     130469     1 E Main St   \n",
       "1    18311  #1 BROOKVILLE CHEVROLET-BUICK       1840   ONE E MAIN ST   \n",
       "2   118193  #1 BROOKVILLE CHEVROLET-BUICK       2980  1 East Main St   \n",
       "3    18248  #1 BROOKVILLE CHEVROLET-BUICK       1836   ONE E MAIN ST   \n",
       "4   575489  #1 BROOKVILLE CHEVROLET-BUICK        206      30 Main St   \n",
       "\n",
       "         city state    zip country           phone  \\\n",
       "0  Brookville    PA  15825      US  (814) 849-8313   \n",
       "1  BROOKVILLE    PA  15825      US  (814) 849-8313   \n",
       "2  Brookville    PA  15825      US  (814) 849-8313   \n",
       "3  BROOKVILLE    PA  15825      US  (814) 849-8313   \n",
       "4  Brookville    PA  15825      US  (814) 849-8313   \n",
       "\n",
       "                                  web  \\\n",
       "0  https://www.brookvillegmdealer.com   \n",
       "1                                 NaN   \n",
       "2                                 NaN   \n",
       "3                                 NaN   \n",
       "4   http://www.brookvillegmdealer.com   \n",
       "\n",
       "                                          google_url  \\\n",
       "0  https://maps.google.com/maps?cid=1262205935310...   \n",
       "1                                                NaN   \n",
       "2  https://maps.google.com/maps?cid=1262205935310...   \n",
       "3                                                NaN   \n",
       "4  https://maps.google.com/maps?cid=1262205935310...   \n",
       "\n",
       "                                facebook_url  \\\n",
       "0  https://www.facebook.com/brookvillechevy/   \n",
       "1  https://www.facebook.com/brookvillechevy/   \n",
       "2  https://www.facebook.com/brookvillechevy/   \n",
       "3                                        NaN   \n",
       "4  https://www.facebook.com/brookvillechevy/   \n",
       "\n",
       "                                            cars_url  \n",
       "0  https://www.cars.com/dealers/154863/1-brookvil...  \n",
       "1                                                NaN  \n",
       "2  http://www.cars.com/dealers/154863/1-brookvill...  \n",
       "3                                                NaN  \n",
       "4  https://www.cars.com/dealers/154863/1-brookvil...  "
      ]
     },
     "execution_count": 7,
     "metadata": {},
     "output_type": "execute_result"
    }
   ],
   "source": [
    "# checking dataset format\n",
    "dataset.head()"
   ]
  },
  {
   "cell_type": "code",
   "execution_count": 8,
   "metadata": {},
   "outputs": [],
   "source": [
    "# count na values in original dataset\n",
    "na_values_total_dataset_org=report_dataset_org['Missing Values'].sum()"
   ]
  },
  {
   "cell_type": "markdown",
   "metadata": {},
   "source": [
    "# Updating dataset"
   ]
  },
  {
   "cell_type": "code",
   "execution_count": 9,
   "metadata": {},
   "outputs": [],
   "source": [
    "# converting values to uppercase to get proper calculation in unique values\n",
    "dataset['city']=dataset['city'].str.upper()\n",
    "dataset['address_line']=dataset['address_line'].str.upper()\n",
    "dataset['name']=dataset['name'].str.upper()"
   ]
  },
  {
   "cell_type": "code",
   "execution_count": 10,
   "metadata": {},
   "outputs": [],
   "source": [
    "# filling all NaN values with string NA to get proper unique values\n",
    "dataset.fillna('NA',inplace=True)"
   ]
  },
  {
   "cell_type": "markdown",
   "metadata": {},
   "source": [
    "# Get Canonical dataset"
   ]
  },
  {
   "cell_type": "code",
   "execution_count": 11,
   "metadata": {},
   "outputs": [],
   "source": [
    "# generate dataset with canonical rows by removing duplicate ids\n",
    "dataset_canonical=dataset.drop_duplicates(subset='id',inplace=False,keep='first')"
   ]
  },
  {
   "cell_type": "code",
   "execution_count": 12,
   "metadata": {},
   "outputs": [
    {
     "data": {
      "text/plain": [
       "(29668, 13)"
      ]
     },
     "execution_count": 12,
     "metadata": {},
     "output_type": "execute_result"
    }
   ],
   "source": [
    "# checking dataset_canonical shape\n",
    "dataset_canonical.shape"
   ]
  },
  {
   "cell_type": "code",
   "execution_count": 13,
   "metadata": {},
   "outputs": [],
   "source": [
    "no_of_duplicates=dataset_org.shape[0]-dataset_canonical.shape[0]\n",
    "# (no_of_duplicates)"
   ]
  },
  {
   "cell_type": "markdown",
   "metadata": {},
   "source": [
    "# Join old and new datasets to check updated values"
   ]
  },
  {
   "cell_type": "code",
   "execution_count": 14,
   "metadata": {},
   "outputs": [],
   "source": [
    "# old dataset columns with suffix _current \n",
    "# new dataset columns with suffix _new \n",
    "\n",
    "dataset_concat=pd.concat([dataset_org.add_suffix('_current'),dataset.add_suffix('_new')],axis=1)\n"
   ]
  },
  {
   "cell_type": "code",
   "execution_count": 15,
   "metadata": {},
   "outputs": [],
   "source": [
    "# keeping id columns at left\n",
    "# even if suffixes are given, respective values are same in both cols\n",
    "cols=sorted(dataset_concat.columns)#\n",
    "cols.remove('id_current')#.\n",
    "cols.remove('id_new')\n",
    "cols_sorted=['id_current','id_new']+cols\n",
    "dataset_concat_sorted_cols=dataset_concat.reindex(cols_sorted, axis=1)\n"
   ]
  },
  {
   "cell_type": "code",
   "execution_count": 16,
   "metadata": {},
   "outputs": [],
   "source": [
    "# writing joined dataset to csv\n",
    "dataset_concat_sorted_cols.to_csv('dataset_concat.csv')"
   ]
  },
  {
   "cell_type": "markdown",
   "metadata": {},
   "source": [
    "# Getting corrections"
   ]
  },
  {
   "cell_type": "code",
   "execution_count": 17,
   "metadata": {},
   "outputs": [
    {
     "data": {
      "text/html": [
       "<div>\n",
       "<style scoped>\n",
       "    .dataframe tbody tr th:only-of-type {\n",
       "        vertical-align: middle;\n",
       "    }\n",
       "\n",
       "    .dataframe tbody tr th {\n",
       "        vertical-align: top;\n",
       "    }\n",
       "\n",
       "    .dataframe thead th {\n",
       "        text-align: right;\n",
       "    }\n",
       "</style>\n",
       "<table border=\"1\" class=\"dataframe\">\n",
       "  <thead>\n",
       "    <tr style=\"text-align: right;\">\n",
       "      <th></th>\n",
       "      <th>Data Type</th>\n",
       "      <th>Missing Values</th>\n",
       "      <th>Unique Values</th>\n",
       "      <th>Unique values %</th>\n",
       "      <th>Missing values %</th>\n",
       "    </tr>\n",
       "  </thead>\n",
       "  <tbody>\n",
       "    <tr>\n",
       "      <th>id</th>\n",
       "      <td>int64</td>\n",
       "      <td>0</td>\n",
       "      <td>29668</td>\n",
       "      <td>100.000000</td>\n",
       "      <td>0.0</td>\n",
       "    </tr>\n",
       "    <tr>\n",
       "      <th>name</th>\n",
       "      <td>object</td>\n",
       "      <td>0</td>\n",
       "      <td>8189</td>\n",
       "      <td>27.602130</td>\n",
       "      <td>0.0</td>\n",
       "    </tr>\n",
       "    <tr>\n",
       "      <th>tenant_id</th>\n",
       "      <td>int64</td>\n",
       "      <td>0</td>\n",
       "      <td>661</td>\n",
       "      <td>2.227990</td>\n",
       "      <td>0.0</td>\n",
       "    </tr>\n",
       "    <tr>\n",
       "      <th>address_line</th>\n",
       "      <td>object</td>\n",
       "      <td>0</td>\n",
       "      <td>8066</td>\n",
       "      <td>27.187542</td>\n",
       "      <td>0.0</td>\n",
       "    </tr>\n",
       "    <tr>\n",
       "      <th>city</th>\n",
       "      <td>object</td>\n",
       "      <td>0</td>\n",
       "      <td>1895</td>\n",
       "      <td>6.387353</td>\n",
       "      <td>0.0</td>\n",
       "    </tr>\n",
       "    <tr>\n",
       "      <th>state</th>\n",
       "      <td>object</td>\n",
       "      <td>0</td>\n",
       "      <td>53</td>\n",
       "      <td>0.178644</td>\n",
       "      <td>0.0</td>\n",
       "    </tr>\n",
       "    <tr>\n",
       "      <th>zip</th>\n",
       "      <td>object</td>\n",
       "      <td>0</td>\n",
       "      <td>4268</td>\n",
       "      <td>14.385870</td>\n",
       "      <td>0.0</td>\n",
       "    </tr>\n",
       "    <tr>\n",
       "      <th>country</th>\n",
       "      <td>object</td>\n",
       "      <td>0</td>\n",
       "      <td>1</td>\n",
       "      <td>0.003371</td>\n",
       "      <td>0.0</td>\n",
       "    </tr>\n",
       "    <tr>\n",
       "      <th>phone</th>\n",
       "      <td>object</td>\n",
       "      <td>0</td>\n",
       "      <td>7659</td>\n",
       "      <td>25.815694</td>\n",
       "      <td>0.0</td>\n",
       "    </tr>\n",
       "    <tr>\n",
       "      <th>web</th>\n",
       "      <td>object</td>\n",
       "      <td>0</td>\n",
       "      <td>8787</td>\n",
       "      <td>29.617770</td>\n",
       "      <td>0.0</td>\n",
       "    </tr>\n",
       "    <tr>\n",
       "      <th>google_url</th>\n",
       "      <td>object</td>\n",
       "      <td>0</td>\n",
       "      <td>5497</td>\n",
       "      <td>18.528381</td>\n",
       "      <td>0.0</td>\n",
       "    </tr>\n",
       "    <tr>\n",
       "      <th>facebook_url</th>\n",
       "      <td>object</td>\n",
       "      <td>0</td>\n",
       "      <td>7918</td>\n",
       "      <td>26.688688</td>\n",
       "      <td>0.0</td>\n",
       "    </tr>\n",
       "    <tr>\n",
       "      <th>cars_url</th>\n",
       "      <td>object</td>\n",
       "      <td>0</td>\n",
       "      <td>4963</td>\n",
       "      <td>16.728462</td>\n",
       "      <td>0.0</td>\n",
       "    </tr>\n",
       "  </tbody>\n",
       "</table>\n",
       "</div>"
      ],
      "text/plain": [
       "             Data Type  Missing Values  Unique Values  Unique values %  \\\n",
       "id               int64               0          29668       100.000000   \n",
       "name            object               0           8189        27.602130   \n",
       "tenant_id        int64               0            661         2.227990   \n",
       "address_line    object               0           8066        27.187542   \n",
       "city            object               0           1895         6.387353   \n",
       "state           object               0             53         0.178644   \n",
       "zip             object               0           4268        14.385870   \n",
       "country         object               0              1         0.003371   \n",
       "phone           object               0           7659        25.815694   \n",
       "web             object               0           8787        29.617770   \n",
       "google_url      object               0           5497        18.528381   \n",
       "facebook_url    object               0           7918        26.688688   \n",
       "cars_url        object               0           4963        16.728462   \n",
       "\n",
       "              Missing values %  \n",
       "id                         0.0  \n",
       "name                       0.0  \n",
       "tenant_id                  0.0  \n",
       "address_line               0.0  \n",
       "city                       0.0  \n",
       "state                      0.0  \n",
       "zip                        0.0  \n",
       "country                    0.0  \n",
       "phone                      0.0  \n",
       "web                        0.0  \n",
       "google_url                 0.0  \n",
       "facebook_url               0.0  \n",
       "cars_url                   0.0  "
      ]
     },
     "execution_count": 17,
     "metadata": {},
     "output_type": "execute_result"
    }
   ],
   "source": [
    "# get report of canonical dataset\n",
    "report_dataset_new=report(dataset_canonical)\n",
    "report_dataset_new"
   ]
  },
  {
   "cell_type": "code",
   "execution_count": 18,
   "metadata": {},
   "outputs": [],
   "source": [
    "# calculate total no of corrected unique values in name, city, address_line column\n",
    "values_updated=dict(report_dataset_org['Unique Values']-report_dataset_new['Unique Values'])\n",
    "unique_values_updated_by_uppercase=dict()\n",
    "for i in values_updated.keys():\n",
    "    if i in ('name','city','address_line'):\n",
    "        unique_values_updated_by_uppercase[i]=values_updated[i]"
   ]
  },
  {
   "cell_type": "code",
   "execution_count": null,
   "metadata": {},
   "outputs": [],
   "source": []
  },
  {
   "cell_type": "markdown",
   "metadata": {},
   "source": [
    "# Get CSV of Data quality by tenant"
   ]
  },
  {
   "cell_type": "code",
   "execution_count": 19,
   "metadata": {},
   "outputs": [],
   "source": [
    "# creating dataframe groups by tenant_id\n",
    "tenant_id_group=dataset_canonical.groupby(['tenant_id'])"
   ]
  },
  {
   "cell_type": "code",
   "execution_count": 20,
   "metadata": {},
   "outputs": [
    {
     "data": {
      "text/plain": [
       "661"
      ]
     },
     "execution_count": 20,
     "metadata": {},
     "output_type": "execute_result"
    }
   ],
   "source": [
    "# checking no of groups\n",
    "len(tenant_id_group)"
   ]
  },
  {
   "cell_type": "code",
   "execution_count": 21,
   "metadata": {},
   "outputs": [],
   "source": [
    "# create dataframe named 'quality' to check quality as % of NA values count for each group\n",
    "quality=pd.DataFrame(columns=['tenant id','na_count','total count'])\n",
    "for key, df in tenant_id_group:\n",
    "    na_count=0\n",
    "    total_count=df.shape[1]*df.shape[0]\n",
    "    for col in df.columns:\n",
    "        if col not in ('id','tenant_id'):\n",
    "            try:\n",
    "                na_count=df[col].value_counts()['NA']+na_count\n",
    "            except:\n",
    "                pass\n",
    "    quality=quality.append(pd.Series({'tenant id':key,'na_count':na_count,'total count':total_count}),ignore_index=True)    # na_dict[key]=na_count\n"
   ]
  },
  {
   "cell_type": "code",
   "execution_count": 22,
   "metadata": {},
   "outputs": [],
   "source": [
    "# create quality column as % of count of NA in each group\n",
    "# lesser the NA count, Higher the quality of data\n",
    "quality['quality%_by_NA_count']=100-(quality['na_count']*100/quality['total count'])"
   ]
  },
  {
   "cell_type": "code",
   "execution_count": 23,
   "metadata": {},
   "outputs": [],
   "source": [
    "# write quality to csv\n",
    "quality.to_csv('quality.csv')"
   ]
  },
  {
   "cell_type": "markdown",
   "metadata": {},
   "source": [
    "# Generating report"
   ]
  },
  {
   "cell_type": "code",
   "execution_count": 24,
   "metadata": {},
   "outputs": [],
   "source": [
    "# Total number of canonical locations\n",
    "unique_addresses_group=dataset_canonical.groupby(['address_line','city','zip','state','country'])\n",
    "total_no_of_canonical_locations=len(unique_addresses_group)"
   ]
  },
  {
   "cell_type": "code",
   "execution_count": 25,
   "metadata": {},
   "outputs": [],
   "source": [
    "# writing report.txt\n",
    "with open('report.txt','w')as f:\n",
    "    f.write(f'Total number of distinct dealerships (locations ids): {len(dataset_canonical)}\\n')\n",
    "    f.write(f'Total number of canonical locations: {total_no_of_canonical_locations}\\n')\n",
    "    f.write(f'Total number of data issues (missing cells) found  : {na_values_total_dataset_org}\\n')\n",
    "    f.write(f'Total number of data corrections:\\n')\n",
    "    f.write(f'total no of duplicate rows removed: {no_of_duplicates}\\n')\n",
    "    f.write(f'total no of NA values filled: {na_values_total_dataset_org}\\n')\n",
    "    f.write(f'total no of unique values corrected by changing case in following columns: {unique_values_updated_by_uppercase}\\n')\n",
    "    "
   ]
  },
  {
   "cell_type": "markdown",
   "metadata": {},
   "source": [
    "# Model creation"
   ]
  },
  {
   "cell_type": "code",
   "execution_count": null,
   "metadata": {},
   "outputs": [],
   "source": [
    "# # creating model to predict the closest possible dealership from canonical dataset\n",
    "\n",
    "# encoding from string to num\n",
    "\n",
    "# from sklearn.preprocessing import OrdinalEncoder\n",
    "# oe=OrdinalEncoder()\n",
    "# dataset_train=dataset_canonical.copy()\n",
    "\n",
    "# from sklearn.compose import ColumnTransformer\n",
    "\n",
    "# # encoding only those variables which essential for dealership and distinct location\n",
    "\n",
    "# transformer = ColumnTransformer(transformers=[\n",
    "#     ('tnf1',OrdinalEncoder(),['name']),\n",
    "#     ('tnf2',OrdinalEncoder(),['tenant_id']),\n",
    "#     ('tnf3',OrdinalEncoder(),['address_line']),\n",
    "#     ('tnf4',OrdinalEncoder(),['city']),\n",
    "#     ('tnf5',OrdinalEncoder(),['state']),\n",
    "#     ('tnf6',OrdinalEncoder(),['zip'])\n",
    "\n",
    "# ],remainder='drop')\n",
    "\n",
    "# dataset_train_trf=transformer.fit_transform(dataset_train)\n"
   ]
  },
  {
   "cell_type": "code",
   "execution_count": null,
   "metadata": {},
   "outputs": [],
   "source": [
    "# # creating clusters of number=distinct dealerhsips\n",
    "# # this will predict the future incoming deals closest to one from canonical dataset\n",
    "\n",
    "# from sklearn.cluster import KMeans\n",
    "# kmeans=KMeans(len(dataset_canonical))\n",
    "# kmeans.fit(dataset_train_trf)"
   ]
  },
  {
   "cell_type": "code",
   "execution_count": null,
   "metadata": {},
   "outputs": [],
   "source": [
    "# # predict closest possible dealership\n",
    "\n",
    "# kmeans.predict([future_dealership])"
   ]
  },
  {
   "cell_type": "markdown",
   "metadata": {},
   "source": [
    "# Model/object serilization"
   ]
  },
  {
   "cell_type": "code",
   "execution_count": 26,
   "metadata": {},
   "outputs": [],
   "source": [
    "# import joblib\n",
    "# joblib.dump('model.pkl',model)"
   ]
  },
  {
   "cell_type": "markdown",
   "metadata": {},
   "source": [
    "# QnA"
   ]
  },
  {
   "cell_type": "code",
   "execution_count": 27,
   "metadata": {},
   "outputs": [
    {
     "data": {
      "text/plain": [
       "'\\nExplain any 2 methods that you would prefer to push the project to production \\nfor client usage\\n\\nAns:\\nMethod 1:\\nstep 1: Creating repository and pushing it to github with following files\\n\\napp.py: flask application\\nmodel.pkl: model\\ntrain.py: training script\\ntest.py: testing script\\ndataset.csv: training data\\nREADME.md: README\\nconfig.yaml: server configuration varaibles\\ndeployment.yaml: deployment configuration variables, docker build,push,run\\nDockerfile: docker config file\\nrequirements.txt: python libraries to install\\nindex.html: HTML homepage of web application\\nprocfile: server config file\\n\\nstep 2: Connect github repo to GCP source repo with push trigger\\nstep 3: Set external IP visible to all\\nstep 4: create kubernetes cluster and configure with current project\\n\\nMethod 2:\\n\\n'"
      ]
     },
     "execution_count": 27,
     "metadata": {},
     "output_type": "execute_result"
    }
   ],
   "source": [
    "\"\"\"\n",
    "Explain any 2 methods that you would prefer to push the project to production \n",
    "for client usage\n",
    "\n",
    "Ans:\n",
    "Method 1:\n",
    "step 1: Creating repository and pushing it to github with following files\n",
    "\n",
    "app.py: flask application\n",
    "model.pkl: model\n",
    "train.py: training script\n",
    "test.py: testing script\n",
    "dataset.csv: training data\n",
    "README.md: README\n",
    "config.yaml: server configuration varaibles\n",
    "deployment.yaml: deployment configuration variables, docker build,push,run\n",
    "Dockerfile: docker config file\n",
    "requirements.txt: python libraries to install\n",
    "index.html: HTML homepage of web application\n",
    "procfile: server config file\n",
    "\n",
    "step 2: Connect github repo to GCP source repo with push trigger\n",
    "step 3: Set external IP visible to all\n",
    "step 4: create kubernetes cluster and configure with current project\n",
    "\n",
    "Method 2:\n",
    "\n",
    "\"\"\""
   ]
  }
 ],
 "metadata": {
  "interpreter": {
   "hash": "ad2bdc8ecc057115af97d19610ffacc2b4e99fae6737bb82f5d7fb13d2f2c186"
  },
  "kernelspec": {
   "display_name": "Python 3.8.8 ('base')",
   "language": "python",
   "name": "python3"
  },
  "language_info": {
   "codemirror_mode": {
    "name": "ipython",
    "version": 3
   },
   "file_extension": ".py",
   "mimetype": "text/x-python",
   "name": "python",
   "nbconvert_exporter": "python",
   "pygments_lexer": "ipython3",
   "version": "3.8.8"
  },
  "orig_nbformat": 4
 },
 "nbformat": 4,
 "nbformat_minor": 2
}
